{
 "cells": [
  {
   "cell_type": "markdown",
   "metadata": {},
   "source": [
    "导入库"
   ]
  },
  {
   "cell_type": "code",
   "execution_count": 1,
   "metadata": {
    "metadata": {}
   },
   "outputs": [],
   "source": [
    "%matplotlib widget"
   ]
  },
  {
   "cell_type": "code",
   "execution_count": 2,
   "metadata": {
    "metadata": {}
   },
   "outputs": [],
   "source": [
    "import os\n",
    "import numpy as np\n",
    "import json\n",
    "\n",
    "# import utils\n",
    "from DataPrepare import EEGAudioDataset\n",
    "from torch_dct import dct"
   ]
  },
  {
   "cell_type": "markdown",
   "metadata": {},
   "source": [
    "公共变量"
   ]
  },
  {
   "cell_type": "code",
   "execution_count": 3,
   "metadata": {
    "metadata": {}
   },
   "outputs": [],
   "source": [
    "os.environ[\"CUDA_VISIBLE_DEVICES\"] = '0'\n",
    "# words_path = r'./feat/words'\n",
    "words_path = r'./feat'\n",
    "pts = ['sub-%02d'%i for i in range(1,11)]\n",
    "pt = 'sub-06'\n",
    "test_word = 10\n",
    "config_path = r'./config'\n",
    "model_name = 'test'"
   ]
  },
  {
   "cell_type": "markdown",
   "metadata": {},
   "source": [
    "读取数据"
   ]
  },
  {
   "cell_type": "code",
   "execution_count": 4,
   "metadata": {
    "metadata": {}
   },
   "outputs": [
    {
     "name": "stdout",
     "output_type": "stream",
     "text": [
      "verstijfde (3075, 127) (48062,)\n"
     ]
    }
   ],
   "source": [
    "folder_path = os.path.join(words_path,f'{pt}')\n",
    "filename = os.listdir(folder_path)[test_word]\n",
    "word_info = np.load(os.path.join(folder_path,filename),allow_pickle=True)\n",
    "word=word_info.item()['label']\n",
    "eeg=word_info.item()['eeg']\n",
    "audio=word_info.item()['audio']\n",
    "\n",
    "print(word,eeg.shape,audio.shape)"
   ]
  },
  {
   "cell_type": "markdown",
   "metadata": {},
   "source": [
    "数据预处理"
   ]
  },
  {
   "cell_type": "code",
   "execution_count": 5,
   "metadata": {
    "metadata": {}
   },
   "outputs": [],
   "source": [
    "with open(os.path.join(config_path,f'{model_name}.json'),'r') as f:\n",
    "    cfg = json.load(f)\n",
    "    model_cfg = cfg['model_config']\n",
    "    data_cfg = cfg['data_config']\n",
    "\n",
    "# load config \n",
    "seg_size = model_cfg['seg_size']\n",
    "pred_size = model_cfg['pred_size']\n",
    "batch_size = model_cfg['batch_size']\n",
    "lr = model_cfg['lr']\n",
    "b1 = model_cfg['b1']\n",
    "b2 = model_cfg['b2']\n",
    "d_model = model_cfg['d_model']\n",
    "embedding_dim = model_cfg['embedding_dim']\n",
    "nhead = model_cfg['nhead']\n",
    "n_layer = model_cfg['n_layer']\n",
    "n_embedding = model_cfg['n_embedding']\n",
    "\n",
    "data_path = data_cfg['data_path']\n",
    "win_len = data_cfg['win_len']\n",
    "frame_shift = data_cfg['frame_shift']\n",
    "eeg_sr = data_cfg['eeg_sr']\n",
    "audio_sr = data_cfg['audio_sr']\n",
    "n_mels = data_cfg['n_mels']\n",
    "pad_mode = data_cfg['pad_mode']"
   ]
  },
  {
   "cell_type": "markdown",
   "metadata": {},
   "source": [
    "提取高频eeg信号和音频信号的梅尔频谱"
   ]
  },
  {
   "cell_type": "code",
   "execution_count": 6,
   "metadata": {},
   "outputs": [],
   "source": [
    "dataset = EEGAudioDataset(pt,data_path,win_len,frame_shift,eeg_sr,audio_sr,n_mels,pad_mode)\n",
    "train_encoder_data,train_decoder_input_data,train_decoder_output_data,test_encoder_data,test_decoder_input_data,test_decoder_output_data = dataset.prepareData(seg_size)"
   ]
  },
  {
   "cell_type": "code",
   "execution_count": 7,
   "metadata": {},
   "outputs": [
    {
     "name": "stdout",
     "output_type": "stream",
     "text": [
      "(25200, 204, 127) (25200, 11, 80) (25200, 11, 80) (2800, 204, 127) (2800, 11, 80) (2800, 11, 80)\n"
     ]
    }
   ],
   "source": [
    "print(train_encoder_data.shape,train_decoder_input_data.shape,train_decoder_output_data.shape,test_encoder_data.shape,test_decoder_input_data.shape,test_decoder_output_data.shape)"
   ]
  },
  {
   "cell_type": "code",
   "execution_count": null,
   "metadata": {},
   "outputs": [],
   "source": [
    "from transformer import torchTransformer\n",
    "import numpy as np\n",
    "import torch\n",
    "import torch.nn.functional as F\n",
    "from torch import nn\n",
    "tensor_type = torch.cuda.FloatTensor\n",
    "device = torch.device(\"cuda\" if torch.cuda.is_available() else \"cpu\")\n",
    "\n",
    "# model = torchTransformer(d_model,embedding_dim,nhead,n_layer,n_embedding,seg_size,pred_size).to(device)\n",
    "optimizer = torch.optim.Adam(model.parameters(), lr=lr, betas=(b1, b2))\n",
    "criterion = nn.MSELoss()\n"
   ]
  },
  {
   "cell_type": "code",
   "execution_count": null,
   "metadata": {
    "metadata": {}
   },
   "outputs": [
    {
     "ename": "TypeError",
     "evalue": "EEGAudioDataset.extractHG() missing 1 required positional argument: 'sr'",
     "output_type": "error",
     "traceback": [
      "\u001b[0;31m---------------------------------------------------------------------------\u001b[0m",
      "\u001b[0;31mTypeError\u001b[0m                                 Traceback (most recent call last)",
      "Cell \u001b[0;32mIn[7], line 1\u001b[0m\n\u001b[0;32m----> 1\u001b[0m eeg \u001b[38;5;241m=\u001b[39m \u001b[43mEEGAudioDataset\u001b[49m\u001b[38;5;241;43m.\u001b[39;49m\u001b[43mextractHG\u001b[49m\u001b[43m(\u001b[49m\u001b[43meeg\u001b[49m\u001b[43m,\u001b[49m\u001b[43meeg_sr\u001b[49m\u001b[43m,\u001b[49m\u001b[43mwindowLength\u001b[49m\u001b[38;5;241;43m=\u001b[39;49m\u001b[43mwin_len\u001b[49m\u001b[43m,\u001b[49m\u001b[43mframeshift\u001b[49m\u001b[38;5;241;43m=\u001b[39;49m\u001b[43mframe_shift\u001b[49m\u001b[43m)\u001b[49m\n\u001b[1;32m      2\u001b[0m melspec \u001b[38;5;241m=\u001b[39m EEGAudioDataset\u001b[38;5;241m.\u001b[39mextractMelSpecs(audio,audio_sr,windowLength\u001b[38;5;241m=\u001b[39mwin_len,frameshift\u001b[38;5;241m=\u001b[39mframe_shift,n_mels\u001b[38;5;241m=\u001b[39mn_mels)\n\u001b[1;32m      3\u001b[0m \u001b[38;5;66;03m# print(eeg.shape,melspec.shape)\u001b[39;00m\n",
      "\u001b[0;31mTypeError\u001b[0m: EEGAudioDataset.extractHG() missing 1 required positional argument: 'sr'"
     ]
    }
   ],
   "source": [
    "eeg = EEGAudioDataset.extractHG(eeg,eeg_sr,windowLength=win_len,frameshift=frame_shift)\n",
    "melspec = EEGAudioDataset.extractMelSpecs(audio,audio_sr,windowLength=win_len,frameshift=frame_shift,n_mels=n_mels)\n",
    "# print(eeg.shape,melspec.shape)\n",
    "if melspec.shape[0]!=eeg.shape[0]:\n",
    "    minlen = min(melspec.shape[0],eeg.shape[0])\n",
    "    melspec = melspec[:minlen,:]\n",
    "    eeg = eeg[:minlen,:]\n",
    "print(eeg.shape,melspec.shape)"
   ]
  },
  {
   "cell_type": "markdown",
   "metadata": {},
   "source": [
    "预处理"
   ]
  },
  {
   "cell_type": "code",
   "execution_count": null,
   "metadata": {
    "metadata": {}
   },
   "outputs": [
    {
     "name": "stdout",
     "output_type": "stream",
     "text": [
      "(150, 16, 127) (150, 16, 40)\n"
     ]
    }
   ],
   "source": [
    "eeg_mean = np.mean(eeg)\n",
    "eeg_std = np.std(eeg)\n",
    "eeg = (eeg-eeg_mean)/eeg_std\n",
    "eeg_list = []\n",
    "mel_list = []\n",
    "hop_size = 1\n",
    "pad_width = ((int(np.floor((seg_size-hop_size)/2.0)),int(np.ceil((seg_size-hop_size)/2.0))),(0,0))\n",
    "pad_eeg = np.pad(eeg,pad_width,mode=pad_mode)\n",
    "pad_mel = np.pad(melspec,pad_width,mode=pad_mode)\n",
    "num_win = int(len(eeg)/float(hop_size))\n",
    "for i in range(num_win):\n",
    "    start = i*hop_size\n",
    "    end = start + seg_size\n",
    "    eeg_list.append(pad_eeg[start:end,:])\n",
    "    mel_list.append(pad_mel[start:end,:])\n",
    "\n",
    "eeg_data = np.stack(eeg_list,axis=0)\n",
    "mel_data = np.stack(mel_list,axis=0)\n",
    "print(eeg_data.shape,mel_data.shape)"
   ]
  },
  {
   "cell_type": "markdown",
   "metadata": {},
   "source": [
    "加载模型"
   ]
  },
  {
   "cell_type": "code",
   "execution_count": null,
   "metadata": {
    "metadata": {}
   },
   "outputs": [],
   "source": [
    "import numpy as np\n",
    "import torch\n",
    "import torch.nn.functional as F\n",
    "from torch import nn\n",
    "\n",
    "from itertools import chain\n",
    "from model.VQVAE import  MelEncoder,EEGEncoder,VectorQuantizer,MelLinearDecoder,LinearClassifier"
   ]
  },
  {
   "cell_type": "code",
   "execution_count": null,
   "metadata": {
    "metadata": {}
   },
   "outputs": [],
   "source": [
    "from model.models import Model"
   ]
  },
  {
   "cell_type": "code",
   "execution_count": null,
   "metadata": {
    "metadata": {}
   },
   "outputs": [
    {
     "name": "stdout",
     "output_type": "stream",
     "text": [
      "Loading './res/sub-06/vqvae_cls_n512d1024/vqvae_cls_n512d1024_001000.pt'\n",
      "Complete.\n"
     ]
    },
    {
     "data": {
      "text/plain": [
       "<All keys matched successfully>"
      ]
     },
     "execution_count": 65,
     "metadata": {},
     "output_type": "execute_result"
    }
   ],
   "source": [
    "input_dim = eeg_data.shape[-1]\n",
    "output_dim = mel_data.shape[-1]\n",
    "\n",
    "tensor_type = torch.cuda.FloatTensor\n",
    "device = torch.device(\"cuda\" if torch.cuda.is_available() else \"cpu\")\n",
    "\n",
    "eeg_encoder = EEGEncoder(input_dim=input_dim,d_model=d_model,n_layer=n_layer).to(device)\n",
    "mel_encoder = MelEncoder(input_dim=output_dim,d_model=d_model).to(device)\n",
    "vector_quantizer = VectorQuantizer(num_embeddings=n_embedding,embedding_dim=embedding_dim).to(device)\n",
    "mel_decoder = MelLinearDecoder(output_dim=output_dim,d_model=d_model,seg_size=seg_size).to(device)\n",
    "classifier = LinearClassifier(num_embedding=n_embedding,embedding_dim=embedding_dim).to(device)\n",
    "\n",
    "# eeg_optimizer = torch.optim.Adam(chain(eeg_encoder.parameters(),classifier.parameters()),lr=lr,betas=(b1,b2))\n",
    "# scheduler = MultiStepLR(main_optimizer,milestones=[10,20,30],gamma=0.5)\n",
    "\n",
    "l1loss = nn.SmoothL1Loss().double().to(device)\n",
    "loss_fn = lambda x,y:(l1loss(x.double(), y.double())+l1loss(torch.exp(x.double()).double(),torch.exp(y.double()).double())+l1loss(dct(x.double(),norm='ortho').double(),dct(y.double(),norm='ortho').double()))\n",
    "\n",
    "checkpoint = utils.scan_checkpoint(f'./res/{pt}/{model_name}',f'{model_name}')\n",
    "state_dict = utils.load_checkpoint(checkpoint)\n",
    "eeg_encoder.load_state_dict(state_dict['eeg_encoder'])\n",
    "mel_encoder.load_state_dict(state_dict['mel_encoder'])\n",
    "vector_quantizer.load_state_dict(state_dict['vector_quantizer'])\n",
    "mel_decoder.load_state_dict(state_dict['mel_decoder'])\n",
    "classifier.load_state_dict(state_dict['classifier'])\n",
    "\n",
    "# eeg_encoder.eval()\n",
    "# mel_encoder.eval()\n",
    "# vector_quantizer.eval()\n",
    "# mel_decoder.eval()\n",
    "# classifier.eval()"
   ]
  },
  {
   "cell_type": "code",
   "execution_count": null,
   "metadata": {
    "metadata": {}
   },
   "outputs": [
    {
     "data": {
      "text/plain": [
       "EEGEncoder(\n",
       "  (TransformerEncoder): RoPETransformerEncoder(\n",
       "    (aff_input): Linear(in_features=127, out_features=128, bias=True)\n",
       "    (RoPEMultiHeadAttention): RotaryPEMultiHeadAttention(\n",
       "      (query): PrepareForMultiHeadAttention(\n",
       "        (linear): Linear(in_features=128, out_features=128, bias=True)\n",
       "      )\n",
       "      (key): PrepareForMultiHeadAttention(\n",
       "        (linear): Linear(in_features=128, out_features=128, bias=True)\n",
       "      )\n",
       "      (value): PrepareForMultiHeadAttention(\n",
       "        (linear): Linear(in_features=128, out_features=128, bias=True)\n",
       "      )\n",
       "      (softmax): Softmax(dim=2)\n",
       "      (output): Linear(in_features=128, out_features=128, bias=True)\n",
       "      (dropout): Dropout(p=0.1, inplace=False)\n",
       "      (query_rotary_pe): RotaryPositionalEmbeddings()\n",
       "      (key_rotary_pe): RotaryPositionalEmbeddings()\n",
       "    )\n",
       "    (ff): FeedForward(\n",
       "      (layer1): Linear(in_features=128, out_features=512, bias=True)\n",
       "      (layer2): Linear(in_features=512, out_features=128, bias=True)\n",
       "      (dropout): Dropout(p=0.1, inplace=False)\n",
       "      (activation): GELU(approximate=none)\n",
       "    )\n",
       "    (encoderLayer): TransformerLayer(\n",
       "      (self_attn): RotaryPEMultiHeadAttention(\n",
       "        (query): PrepareForMultiHeadAttention(\n",
       "          (linear): Linear(in_features=128, out_features=128, bias=True)\n",
       "        )\n",
       "        (key): PrepareForMultiHeadAttention(\n",
       "          (linear): Linear(in_features=128, out_features=128, bias=True)\n",
       "        )\n",
       "        (value): PrepareForMultiHeadAttention(\n",
       "          (linear): Linear(in_features=128, out_features=128, bias=True)\n",
       "        )\n",
       "        (softmax): Softmax(dim=2)\n",
       "        (output): Linear(in_features=128, out_features=128, bias=True)\n",
       "        (dropout): Dropout(p=0.1, inplace=False)\n",
       "        (query_rotary_pe): RotaryPositionalEmbeddings()\n",
       "        (key_rotary_pe): RotaryPositionalEmbeddings()\n",
       "      )\n",
       "      (feed_forward): FeedForward(\n",
       "        (layer1): Linear(in_features=128, out_features=512, bias=True)\n",
       "        (layer2): Linear(in_features=512, out_features=128, bias=True)\n",
       "        (dropout): Dropout(p=0.1, inplace=False)\n",
       "        (activation): GELU(approximate=none)\n",
       "      )\n",
       "      (dropout): Dropout(p=0.1, inplace=False)\n",
       "      (norm_self_attn): LayerNorm((128,), eps=1e-05, elementwise_affine=True)\n",
       "      (norm_ff): LayerNorm((128,), eps=1e-05, elementwise_affine=True)\n",
       "    )\n",
       "    (encoder): Encoder(\n",
       "      (layers): ModuleList(\n",
       "        (0): TransformerLayer(\n",
       "          (self_attn): RotaryPEMultiHeadAttention(\n",
       "            (query): PrepareForMultiHeadAttention(\n",
       "              (linear): Linear(in_features=128, out_features=128, bias=True)\n",
       "            )\n",
       "            (key): PrepareForMultiHeadAttention(\n",
       "              (linear): Linear(in_features=128, out_features=128, bias=True)\n",
       "            )\n",
       "            (value): PrepareForMultiHeadAttention(\n",
       "              (linear): Linear(in_features=128, out_features=128, bias=True)\n",
       "            )\n",
       "            (softmax): Softmax(dim=2)\n",
       "            (output): Linear(in_features=128, out_features=128, bias=True)\n",
       "            (dropout): Dropout(p=0.1, inplace=False)\n",
       "            (query_rotary_pe): RotaryPositionalEmbeddings()\n",
       "            (key_rotary_pe): RotaryPositionalEmbeddings()\n",
       "          )\n",
       "          (feed_forward): FeedForward(\n",
       "            (layer1): Linear(in_features=128, out_features=512, bias=True)\n",
       "            (layer2): Linear(in_features=512, out_features=128, bias=True)\n",
       "            (dropout): Dropout(p=0.1, inplace=False)\n",
       "            (activation): GELU(approximate=none)\n",
       "          )\n",
       "          (dropout): Dropout(p=0.1, inplace=False)\n",
       "          (norm_self_attn): LayerNorm((128,), eps=1e-05, elementwise_affine=True)\n",
       "          (norm_ff): LayerNorm((128,), eps=1e-05, elementwise_affine=True)\n",
       "        )\n",
       "        (1): TransformerLayer(\n",
       "          (self_attn): RotaryPEMultiHeadAttention(\n",
       "            (query): PrepareForMultiHeadAttention(\n",
       "              (linear): Linear(in_features=128, out_features=128, bias=True)\n",
       "            )\n",
       "            (key): PrepareForMultiHeadAttention(\n",
       "              (linear): Linear(in_features=128, out_features=128, bias=True)\n",
       "            )\n",
       "            (value): PrepareForMultiHeadAttention(\n",
       "              (linear): Linear(in_features=128, out_features=128, bias=True)\n",
       "            )\n",
       "            (softmax): Softmax(dim=2)\n",
       "            (output): Linear(in_features=128, out_features=128, bias=True)\n",
       "            (dropout): Dropout(p=0.1, inplace=False)\n",
       "            (query_rotary_pe): RotaryPositionalEmbeddings()\n",
       "            (key_rotary_pe): RotaryPositionalEmbeddings()\n",
       "          )\n",
       "          (feed_forward): FeedForward(\n",
       "            (layer1): Linear(in_features=128, out_features=512, bias=True)\n",
       "            (layer2): Linear(in_features=512, out_features=128, bias=True)\n",
       "            (dropout): Dropout(p=0.1, inplace=False)\n",
       "            (activation): GELU(approximate=none)\n",
       "          )\n",
       "          (dropout): Dropout(p=0.1, inplace=False)\n",
       "          (norm_self_attn): LayerNorm((128,), eps=1e-05, elementwise_affine=True)\n",
       "          (norm_ff): LayerNorm((128,), eps=1e-05, elementwise_affine=True)\n",
       "        )\n",
       "      )\n",
       "    )\n",
       "  )\n",
       ")"
      ]
     },
     "execution_count": 66,
     "metadata": {},
     "output_type": "execute_result"
    }
   ],
   "source": [
    "eeg_encoder.eval()"
   ]
  },
  {
   "cell_type": "code",
   "execution_count": null,
   "metadata": {
    "metadata": {}
   },
   "outputs": [
    {
     "data": {
      "text/plain": [
       "MelEncoder(\n",
       "  (TransformerEncoder): RoPETransformerEncoder(\n",
       "    (aff_input): Linear(in_features=40, out_features=128, bias=True)\n",
       "    (RoPEMultiHeadAttention): RotaryPEMultiHeadAttention(\n",
       "      (query): PrepareForMultiHeadAttention(\n",
       "        (linear): Linear(in_features=128, out_features=128, bias=True)\n",
       "      )\n",
       "      (key): PrepareForMultiHeadAttention(\n",
       "        (linear): Linear(in_features=128, out_features=128, bias=True)\n",
       "      )\n",
       "      (value): PrepareForMultiHeadAttention(\n",
       "        (linear): Linear(in_features=128, out_features=128, bias=True)\n",
       "      )\n",
       "      (softmax): Softmax(dim=2)\n",
       "      (output): Linear(in_features=128, out_features=128, bias=True)\n",
       "      (dropout): Dropout(p=0.1, inplace=False)\n",
       "      (query_rotary_pe): RotaryPositionalEmbeddings()\n",
       "      (key_rotary_pe): RotaryPositionalEmbeddings()\n",
       "    )\n",
       "    (ff): FeedForward(\n",
       "      (layer1): Linear(in_features=128, out_features=512, bias=True)\n",
       "      (layer2): Linear(in_features=512, out_features=128, bias=True)\n",
       "      (dropout): Dropout(p=0.1, inplace=False)\n",
       "      (activation): GELU(approximate=none)\n",
       "    )\n",
       "    (encoderLayer): TransformerLayer(\n",
       "      (self_attn): RotaryPEMultiHeadAttention(\n",
       "        (query): PrepareForMultiHeadAttention(\n",
       "          (linear): Linear(in_features=128, out_features=128, bias=True)\n",
       "        )\n",
       "        (key): PrepareForMultiHeadAttention(\n",
       "          (linear): Linear(in_features=128, out_features=128, bias=True)\n",
       "        )\n",
       "        (value): PrepareForMultiHeadAttention(\n",
       "          (linear): Linear(in_features=128, out_features=128, bias=True)\n",
       "        )\n",
       "        (softmax): Softmax(dim=2)\n",
       "        (output): Linear(in_features=128, out_features=128, bias=True)\n",
       "        (dropout): Dropout(p=0.1, inplace=False)\n",
       "        (query_rotary_pe): RotaryPositionalEmbeddings()\n",
       "        (key_rotary_pe): RotaryPositionalEmbeddings()\n",
       "      )\n",
       "      (feed_forward): FeedForward(\n",
       "        (layer1): Linear(in_features=128, out_features=512, bias=True)\n",
       "        (layer2): Linear(in_features=512, out_features=128, bias=True)\n",
       "        (dropout): Dropout(p=0.1, inplace=False)\n",
       "        (activation): GELU(approximate=none)\n",
       "      )\n",
       "      (dropout): Dropout(p=0.1, inplace=False)\n",
       "      (norm_self_attn): LayerNorm((128,), eps=1e-05, elementwise_affine=True)\n",
       "      (norm_ff): LayerNorm((128,), eps=1e-05, elementwise_affine=True)\n",
       "    )\n",
       "    (encoder): Encoder(\n",
       "      (layers): ModuleList(\n",
       "        (0): TransformerLayer(\n",
       "          (self_attn): RotaryPEMultiHeadAttention(\n",
       "            (query): PrepareForMultiHeadAttention(\n",
       "              (linear): Linear(in_features=128, out_features=128, bias=True)\n",
       "            )\n",
       "            (key): PrepareForMultiHeadAttention(\n",
       "              (linear): Linear(in_features=128, out_features=128, bias=True)\n",
       "            )\n",
       "            (value): PrepareForMultiHeadAttention(\n",
       "              (linear): Linear(in_features=128, out_features=128, bias=True)\n",
       "            )\n",
       "            (softmax): Softmax(dim=2)\n",
       "            (output): Linear(in_features=128, out_features=128, bias=True)\n",
       "            (dropout): Dropout(p=0.1, inplace=False)\n",
       "            (query_rotary_pe): RotaryPositionalEmbeddings()\n",
       "            (key_rotary_pe): RotaryPositionalEmbeddings()\n",
       "          )\n",
       "          (feed_forward): FeedForward(\n",
       "            (layer1): Linear(in_features=128, out_features=512, bias=True)\n",
       "            (layer2): Linear(in_features=512, out_features=128, bias=True)\n",
       "            (dropout): Dropout(p=0.1, inplace=False)\n",
       "            (activation): GELU(approximate=none)\n",
       "          )\n",
       "          (dropout): Dropout(p=0.1, inplace=False)\n",
       "          (norm_self_attn): LayerNorm((128,), eps=1e-05, elementwise_affine=True)\n",
       "          (norm_ff): LayerNorm((128,), eps=1e-05, elementwise_affine=True)\n",
       "        )\n",
       "        (1): TransformerLayer(\n",
       "          (self_attn): RotaryPEMultiHeadAttention(\n",
       "            (query): PrepareForMultiHeadAttention(\n",
       "              (linear): Linear(in_features=128, out_features=128, bias=True)\n",
       "            )\n",
       "            (key): PrepareForMultiHeadAttention(\n",
       "              (linear): Linear(in_features=128, out_features=128, bias=True)\n",
       "            )\n",
       "            (value): PrepareForMultiHeadAttention(\n",
       "              (linear): Linear(in_features=128, out_features=128, bias=True)\n",
       "            )\n",
       "            (softmax): Softmax(dim=2)\n",
       "            (output): Linear(in_features=128, out_features=128, bias=True)\n",
       "            (dropout): Dropout(p=0.1, inplace=False)\n",
       "            (query_rotary_pe): RotaryPositionalEmbeddings()\n",
       "            (key_rotary_pe): RotaryPositionalEmbeddings()\n",
       "          )\n",
       "          (feed_forward): FeedForward(\n",
       "            (layer1): Linear(in_features=128, out_features=512, bias=True)\n",
       "            (layer2): Linear(in_features=512, out_features=128, bias=True)\n",
       "            (dropout): Dropout(p=0.1, inplace=False)\n",
       "            (activation): GELU(approximate=none)\n",
       "          )\n",
       "          (dropout): Dropout(p=0.1, inplace=False)\n",
       "          (norm_self_attn): LayerNorm((128,), eps=1e-05, elementwise_affine=True)\n",
       "          (norm_ff): LayerNorm((128,), eps=1e-05, elementwise_affine=True)\n",
       "        )\n",
       "      )\n",
       "    )\n",
       "  )\n",
       ")"
      ]
     },
     "execution_count": 67,
     "metadata": {},
     "output_type": "execute_result"
    }
   ],
   "source": [
    "mel_encoder.eval()"
   ]
  },
  {
   "cell_type": "code",
   "execution_count": null,
   "metadata": {
    "metadata": {}
   },
   "outputs": [
    {
     "data": {
      "text/plain": [
       "VectorQuantizer()"
      ]
     },
     "execution_count": 68,
     "metadata": {},
     "output_type": "execute_result"
    }
   ],
   "source": [
    "vector_quantizer.eval()"
   ]
  },
  {
   "cell_type": "code",
   "execution_count": null,
   "metadata": {
    "metadata": {}
   },
   "outputs": [
    {
     "data": {
      "text/plain": [
       "MelLinearDecoder(\n",
       "  (decoder): Sequential(\n",
       "    (0): Linear(in_features=2048, out_features=2048, bias=True)\n",
       "    (1): LeakyReLU(negative_slope=0.01)\n",
       "    (2): Linear(in_features=2048, out_features=640, bias=True)\n",
       "  )\n",
       ")"
      ]
     },
     "execution_count": 69,
     "metadata": {},
     "output_type": "execute_result"
    }
   ],
   "source": [
    "mel_decoder.eval()"
   ]
  },
  {
   "cell_type": "code",
   "execution_count": null,
   "metadata": {
    "metadata": {}
   },
   "outputs": [
    {
     "data": {
      "text/plain": [
       "LinearClassifier(\n",
       "  (linear): Sequential(\n",
       "    (0): Linear(in_features=1024, out_features=1024, bias=True)\n",
       "    (1): LeakyReLU(negative_slope=0.01)\n",
       "    (2): Linear(in_features=1024, out_features=512, bias=True)\n",
       "  )\n",
       ")"
      ]
     },
     "execution_count": 70,
     "metadata": {},
     "output_type": "execute_result"
    }
   ],
   "source": [
    "classifier.eval()"
   ]
  },
  {
   "cell_type": "code",
   "execution_count": null,
   "metadata": {
    "metadata": {}
   },
   "outputs": [],
   "source": [
    "eeg_data =torch.from_numpy(eeg_data).to(device).type(tensor_type)\n",
    "mel_data = torch.from_numpy(mel_data).to(device).type(tensor_type)"
   ]
  },
  {
   "cell_type": "code",
   "execution_count": null,
   "metadata": {
    "metadata": {}
   },
   "outputs": [],
   "source": [
    "encoded_eeg = eeg_encoder(eeg_data)\n",
    "encoded_mel = mel_encoder(mel_data)\n",
    "eeg_vq = classifier.cls(encoded_eeg)\n",
    "_,mel_vq = vector_quantizer(encoded_mel)\n",
    "eeg_out = mel_decoder(eeg_vq)\n",
    "mel_out = mel_decoder(mel_vq)\n",
    "pcc = utils.calPCC(eeg_out,mel_data)\n",
    "eeg_out = eeg_out.detach().cpu().numpy()\n",
    "mel_out = mel_out.detach().cpu().numpy()\n",
    "mel_data = mel_data.detach().cpu().numpy()"
   ]
  },
  {
   "cell_type": "code",
   "execution_count": null,
   "metadata": {
    "metadata": {}
   },
   "outputs": [
    {
     "name": "stdout",
     "output_type": "stream",
     "text": [
      "0.7295536329791068\n"
     ]
    }
   ],
   "source": [
    "print(pcc)"
   ]
  },
  {
   "cell_type": "code",
   "execution_count": null,
   "metadata": {
    "metadata": {}
   },
   "outputs": [],
   "source": [
    "import librosa.display\n",
    "import matplotlib.pyplot as plt\n",
    "def nolabel():\n",
    "    plt.gca().spines['top'].set_visible(False)\n",
    "    plt.gca().spines['right'].set_visible(False)\n",
    "    plt.gca().spines['bottom'].set_visible(False)\n",
    "    plt.gca().spines['left'].set_visible(False)\n",
    "    plt.gca().xaxis.set_ticks_position('none')\n",
    "    plt.gca().yaxis.set_ticks_position('none')\n",
    "    plt.gca().xaxis.set_ticklabels([])\n",
    "    plt.gca().yaxis.set_ticklabels([])\n",
    "\n",
    "    plt.xlabel('')\n",
    "    plt.ylabel('')"
   ]
  },
  {
   "cell_type": "code",
   "execution_count": null,
   "metadata": {
    "metadata": {}
   },
   "outputs": [
    {
     "data": {
      "image/png": "[encoded data removed]",
      "text/plain": [
       "<Figure size 1000x400 with 2 Axes>"
      ]
     },
     "metadata": {},
     "output_type": "display_data"
    }
   ],
   "source": [
    "# utils.plot_spectrogram(eeg_out[:-4],audio_sr,int(audio_sr*frame_shift),int(audio_sr*win_len))\n",
    "plt.figure(figsize=(10,4))\n",
    "librosa.display.specshow(utils.getFlatMel(eeg_out).T,sr=audio_sr,hop_length=int(audio_sr*frame_shift),n_fft=int(audio_sr*win_len),x_axis='time',y_axis='mel',cmap='Blues')\n",
    "plt.ylim(0,8192)\n",
    "plt.colorbar(format='%+2.0f dB')\n",
    "plt.title('Mel-Spectrogram Generated by Trans')\n",
    "# nolabel()\n",
    "np.save(os.path.join('test_mel_files',f'{pt}_{test_word}_{word}_eeg_trans.npy'),utils.getFlatMel(eeg_out).T)"
   ]
  },
  {
   "cell_type": "code",
   "execution_count": null,
   "metadata": {
    "metadata": {}
   },
   "outputs": [
    {
     "data": {
      "image/png": "[encoded data removed]",
      "text/plain": [
       "<Figure size 1000x400 with 1 Axes>"
      ]
     },
     "metadata": {},
     "output_type": "display_data"
    }
   ],
   "source": [
    "# utils.plot_spectrogram(mel_out[:-4],audio_sr,int(audio_sr*frame_shift),int(audio_sr*win_len))\n",
    "plt.figure(figsize=(10,4))\n",
    "librosa.display.specshow(utils.getFlatMel(mel_out).T,sr=audio_sr,hop_length=int(audio_sr*frame_shift),n_fft=int(audio_sr*win_len),x_axis='time',y_axis='mel',cmap='Blues')\n",
    "# plt.ylim(0,8192)\n",
    "# plt.colorbar(format='%+2.0f dB')\n",
    "# plt.title('Mel-Spectrogram Generated by Pretrained VQVAE')\n",
    "nolabel()"
   ]
  },
  {
   "cell_type": "code",
   "execution_count": null,
   "metadata": {
    "metadata": {}
   },
   "outputs": [
    {
     "data": {
      "image/png": "[encoded data removed]",
      "text/plain": [
       "<Figure size 1000x400 with 1 Axes>"
      ]
     },
     "metadata": {},
     "output_type": "display_data"
    }
   ],
   "source": [
    "# utils.plot_spectrogram(mel_data[:-4],audio_sr,int(audio_sr*frame_shift),int(audio_sr*win_len))\n",
    "plt.figure(figsize=(10,4))\n",
    "librosa.display.specshow(utils.getFlatMel(mel_data).T,sr=audio_sr,hop_length=int(audio_sr*frame_shift),n_fft=int(audio_sr*win_len),x_axis='time',y_axis='mel',cmap='Blues')\n",
    "# plt.ylim(0,8192)\n",
    "# plt.colorbar(format='%+2.0f dB')\n",
    "# plt.title('Mel-Spectrogram of Original Audio')\n",
    "nolabel()"
   ]
  },
  {
   "cell_type": "code",
   "execution_count": null,
   "metadata": {
    "metadata": {}
   },
   "outputs": [],
   "source": [
    "\n",
    "np.save(os.path.join('test_mel_files',f'{pt}_{test_word}_{word}_mel.npy'),utils.getFlatMel(mel_out).T)\n",
    "np.save(os.path.join('test_mel_files',f'{pt}_{test_word}_{word}_origin.npy'),utils.getFlatMel(mel_data).T)\n"
   ]
  },
  {
   "cell_type": "code",
   "execution_count": null,
   "metadata": {
    "metadata": {}
   },
   "outputs": [
    {
     "name": "stdout",
     "output_type": "stream",
     "text": [
      "(48062,)\n"
     ]
    },
    {
     "data": {
      "image/png": "[encoded data removed]",
      "text/plain": [
       "<Figure size 1000x600 with 1 Axes>"
      ]
     },
     "metadata": {},
     "output_type": "display_data"
    }
   ],
   "source": [
    "import matplotlib.pyplot as plt\n",
    "import librosa.display\n",
    "\n",
    "print(audio.shape)\n",
    "plt.figure(figsize=(10, 6))\n",
    "librosa.display.waveshow(np.float32(audio), sr=audio_sr,color='skyblue')\n",
    "plt.gca().spines['top'].set_visible(False)\n",
    "plt.gca().spines['right'].set_visible(False)\n",
    "plt.gca().spines['bottom'].set_visible(False)\n",
    "plt.gca().spines['left'].set_visible(False)\n",
    "plt.gca().xaxis.set_ticks_position('none')\n",
    "plt.gca().yaxis.set_ticks_position('none')\n",
    "plt.gca().xaxis.set_ticklabels([])\n",
    "plt.gca().yaxis.set_ticklabels([])\n",
    "\n",
    "plt.xlabel('')\n",
    "plt.ylabel('')\n",
    "\n",
    "\n",
    "# plt.title('Waveform')\n",
    "# plt.xlabel('Time (s)')\n",
    "# plt.ylabel('Amplitude')\n",
    "plt.show()"
   ]
  }
 ],
 "metadata": {
  "kernelspec": {
   "display_name": "bci",
   "language": "python",
   "name": "python3"
  },
  "language_info": {
   "codemirror_mode": {
    "name": "ipython",
    "version": 3
   },
   "file_extension": ".py",
   "mimetype": "text/x-python",
   "name": "python",
   "nbconvert_exporter": "python",
   "pygments_lexer": "ipython3",
   "version": "3.10.14"
  }
 },
 "nbformat": 4,
 "nbformat_minor": 2
}
